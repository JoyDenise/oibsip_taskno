{
 "cells": [
  {
   "cell_type": "markdown",
   "id": "6914c835-df76-4091-8f78-ac8df06cb161",
   "metadata": {},
   "source": [
    "# Import Libraries"
   ]
  },
  {
   "cell_type": "code",
   "execution_count": 1,
   "id": "e26dcf37-2629-42c8-b6e0-6884d1b44fb4",
   "metadata": {},
   "outputs": [],
   "source": [
    "import pandas as pd\n",
    "import seaborn as sns\n",
    "import matplotlib.pyplot as plt\n",
    "import numpy as np"
   ]
  },
  {
   "cell_type": "markdown",
   "id": "45e1fe54-a824-4804-b8ae-59630271bb33",
   "metadata": {},
   "source": [
    "# Import Data"
   ]
  },
  {
   "cell_type": "code",
   "execution_count": 2,
   "id": "7d037ac9-192f-42d3-a2bb-d7baf452000d",
   "metadata": {},
   "outputs": [],
   "source": [
    "path = \"../Data/Android_App_Market_on_Google_Play/datasets/apps.csv\"\n",
    "path2 = \"../Data/Android_App_Market_on_Google_Play/datasets/user_reviews.csv\""
   ]
  },
  {
   "cell_type": "code",
   "execution_count": 3,
   "id": "b4b1f803-0fbe-4486-9210-6ad32368ecfe",
   "metadata": {},
   "outputs": [],
   "source": [
    "apps = pd.read_csv(path).drop([\"Unnamed: 0\"], axis=1)\n",
    "reviews = pd.read_csv(path2)"
   ]
  },
  {
   "cell_type": "markdown",
   "id": "8b75c345-70e9-4331-9c8e-394425e658a6",
   "metadata": {},
   "source": [
    "# Data Cleaning"
   ]
  },
  {
   "cell_type": "code",
   "execution_count": 4,
   "id": "3887afed-4c40-4999-8040-94dcccb5f18b",
   "metadata": {},
   "outputs": [
    {
     "name": "stdout",
     "output_type": "stream",
     "text": [
      "<class 'pandas.core.frame.DataFrame'>\n",
      "RangeIndex: 9659 entries, 0 to 9658\n",
      "Data columns (total 13 columns):\n",
      " #   Column          Non-Null Count  Dtype  \n",
      "---  ------          --------------  -----  \n",
      " 0   App             9659 non-null   object \n",
      " 1   Category        9659 non-null   object \n",
      " 2   Rating          8196 non-null   float64\n",
      " 3   Reviews         9659 non-null   int64  \n",
      " 4   Size            8432 non-null   float64\n",
      " 5   Installs        9659 non-null   object \n",
      " 6   Type            9659 non-null   object \n",
      " 7   Price           9659 non-null   object \n",
      " 8   Content Rating  9659 non-null   object \n",
      " 9   Genres          9659 non-null   object \n",
      " 10  Last Updated    9659 non-null   object \n",
      " 11  Current Ver     9651 non-null   object \n",
      " 12  Android Ver     9657 non-null   object \n",
      "dtypes: float64(2), int64(1), object(10)\n",
      "memory usage: 6.4 MB\n"
     ]
    }
   ],
   "source": [
    "apps.info(memory_usage=\"deep\")"
   ]
  },
  {
   "cell_type": "code",
   "execution_count": 5,
   "id": "98ca0a31-5902-40b2-9035-96129a2caaf2",
   "metadata": {},
   "outputs": [
    {
     "data": {
      "text/html": [
       "<div>\n",
       "<style scoped>\n",
       "    .dataframe tbody tr th:only-of-type {\n",
       "        vertical-align: middle;\n",
       "    }\n",
       "\n",
       "    .dataframe tbody tr th {\n",
       "        vertical-align: top;\n",
       "    }\n",
       "\n",
       "    .dataframe thead th {\n",
       "        text-align: right;\n",
       "    }\n",
       "</style>\n",
       "<table border=\"1\" class=\"dataframe\">\n",
       "  <thead>\n",
       "    <tr style=\"text-align: right;\">\n",
       "      <th></th>\n",
       "      <th>App</th>\n",
       "      <th>Category</th>\n",
       "      <th>Rating</th>\n",
       "      <th>Reviews</th>\n",
       "      <th>Size</th>\n",
       "      <th>Installs</th>\n",
       "      <th>Type</th>\n",
       "      <th>Price</th>\n",
       "      <th>Content Rating</th>\n",
       "      <th>Genres</th>\n",
       "      <th>Last Updated</th>\n",
       "      <th>Current Ver</th>\n",
       "      <th>Android Ver</th>\n",
       "    </tr>\n",
       "  </thead>\n",
       "  <tbody>\n",
       "    <tr>\n",
       "      <th>0</th>\n",
       "      <td>Photo Editor &amp; Candy Camera &amp; Grid &amp; ScrapBook</td>\n",
       "      <td>ART_AND_DESIGN</td>\n",
       "      <td>4.1</td>\n",
       "      <td>159</td>\n",
       "      <td>19.0</td>\n",
       "      <td>10,000+</td>\n",
       "      <td>Free</td>\n",
       "      <td>0</td>\n",
       "      <td>Everyone</td>\n",
       "      <td>Art &amp; Design</td>\n",
       "      <td>January 7, 2018</td>\n",
       "      <td>1.0.0</td>\n",
       "      <td>4.0.3 and up</td>\n",
       "    </tr>\n",
       "    <tr>\n",
       "      <th>1</th>\n",
       "      <td>Coloring book moana</td>\n",
       "      <td>ART_AND_DESIGN</td>\n",
       "      <td>3.9</td>\n",
       "      <td>967</td>\n",
       "      <td>14.0</td>\n",
       "      <td>500,000+</td>\n",
       "      <td>Free</td>\n",
       "      <td>0</td>\n",
       "      <td>Everyone</td>\n",
       "      <td>Art &amp; Design;Pretend Play</td>\n",
       "      <td>January 15, 2018</td>\n",
       "      <td>2.0.0</td>\n",
       "      <td>4.0.3 and up</td>\n",
       "    </tr>\n",
       "    <tr>\n",
       "      <th>2</th>\n",
       "      <td>U Launcher Lite – FREE Live Cool Themes, Hide ...</td>\n",
       "      <td>ART_AND_DESIGN</td>\n",
       "      <td>4.7</td>\n",
       "      <td>87510</td>\n",
       "      <td>8.7</td>\n",
       "      <td>5,000,000+</td>\n",
       "      <td>Free</td>\n",
       "      <td>0</td>\n",
       "      <td>Everyone</td>\n",
       "      <td>Art &amp; Design</td>\n",
       "      <td>August 1, 2018</td>\n",
       "      <td>1.2.4</td>\n",
       "      <td>4.0.3 and up</td>\n",
       "    </tr>\n",
       "    <tr>\n",
       "      <th>3</th>\n",
       "      <td>Sketch - Draw &amp; Paint</td>\n",
       "      <td>ART_AND_DESIGN</td>\n",
       "      <td>4.5</td>\n",
       "      <td>215644</td>\n",
       "      <td>25.0</td>\n",
       "      <td>50,000,000+</td>\n",
       "      <td>Free</td>\n",
       "      <td>0</td>\n",
       "      <td>Teen</td>\n",
       "      <td>Art &amp; Design</td>\n",
       "      <td>June 8, 2018</td>\n",
       "      <td>Varies with device</td>\n",
       "      <td>4.2 and up</td>\n",
       "    </tr>\n",
       "    <tr>\n",
       "      <th>4</th>\n",
       "      <td>Pixel Draw - Number Art Coloring Book</td>\n",
       "      <td>ART_AND_DESIGN</td>\n",
       "      <td>4.3</td>\n",
       "      <td>967</td>\n",
       "      <td>2.8</td>\n",
       "      <td>100,000+</td>\n",
       "      <td>Free</td>\n",
       "      <td>0</td>\n",
       "      <td>Everyone</td>\n",
       "      <td>Art &amp; Design;Creativity</td>\n",
       "      <td>June 20, 2018</td>\n",
       "      <td>1.1</td>\n",
       "      <td>4.4 and up</td>\n",
       "    </tr>\n",
       "  </tbody>\n",
       "</table>\n",
       "</div>"
      ],
      "text/plain": [
       "                                                 App        Category  Rating  \\\n",
       "0     Photo Editor & Candy Camera & Grid & ScrapBook  ART_AND_DESIGN     4.1   \n",
       "1                                Coloring book moana  ART_AND_DESIGN     3.9   \n",
       "2  U Launcher Lite – FREE Live Cool Themes, Hide ...  ART_AND_DESIGN     4.7   \n",
       "3                              Sketch - Draw & Paint  ART_AND_DESIGN     4.5   \n",
       "4              Pixel Draw - Number Art Coloring Book  ART_AND_DESIGN     4.3   \n",
       "\n",
       "   Reviews  Size     Installs  Type Price Content Rating  \\\n",
       "0      159  19.0      10,000+  Free     0       Everyone   \n",
       "1      967  14.0     500,000+  Free     0       Everyone   \n",
       "2    87510   8.7   5,000,000+  Free     0       Everyone   \n",
       "3   215644  25.0  50,000,000+  Free     0           Teen   \n",
       "4      967   2.8     100,000+  Free     0       Everyone   \n",
       "\n",
       "                      Genres      Last Updated         Current Ver  \\\n",
       "0               Art & Design   January 7, 2018               1.0.0   \n",
       "1  Art & Design;Pretend Play  January 15, 2018               2.0.0   \n",
       "2               Art & Design    August 1, 2018               1.2.4   \n",
       "3               Art & Design      June 8, 2018  Varies with device   \n",
       "4    Art & Design;Creativity     June 20, 2018                 1.1   \n",
       "\n",
       "    Android Ver  \n",
       "0  4.0.3 and up  \n",
       "1  4.0.3 and up  \n",
       "2  4.0.3 and up  \n",
       "3    4.2 and up  \n",
       "4    4.4 and up  "
      ]
     },
     "execution_count": 5,
     "metadata": {},
     "output_type": "execute_result"
    }
   ],
   "source": [
    "apps.head()"
   ]
  },
  {
   "cell_type": "code",
   "execution_count": 6,
   "id": "141aae92-38a4-45a6-a0dd-dcb248227ac7",
   "metadata": {},
   "outputs": [],
   "source": [
    "# Converted Price to Float data type\n",
    "apps[\"Price\"] = apps.Price.str.replace(\"$\", \"\").astype(\"float64\")"
   ]
  },
  {
   "cell_type": "code",
   "execution_count": 7,
   "id": "2249f851-5960-4465-a3c4-4c316805a5d6",
   "metadata": {},
   "outputs": [],
   "source": [
    "apps.rename(columns={\n",
    "    \"Price\": \"Price ($)\"\n",
    "}, inplace=True)"
   ]
  },
  {
   "cell_type": "code",
   "execution_count": 8,
   "id": "dc0f5cee-0fd0-450a-8d5f-34400c1c9b88",
   "metadata": {},
   "outputs": [],
   "source": [
    "# Converted Last Updated to DataTime Format\n",
    "apps[\"Last Updated\"] = pd.to_datetime(apps[\"Last Updated\"])"
   ]
  },
  {
   "cell_type": "code",
   "execution_count": 9,
   "id": "71dc23c9-1d93-4fc1-b92a-411b43c78e3d",
   "metadata": {},
   "outputs": [
    {
     "name": "stdout",
     "output_type": "stream",
     "text": [
      "<class 'pandas.core.frame.DataFrame'>\n",
      "RangeIndex: 9659 entries, 0 to 9658\n",
      "Data columns (total 13 columns):\n",
      " #   Column          Non-Null Count  Dtype         \n",
      "---  ------          --------------  -----         \n",
      " 0   App             9659 non-null   object        \n",
      " 1   Category        9659 non-null   object        \n",
      " 2   Rating          8196 non-null   float64       \n",
      " 3   Reviews         9659 non-null   int64         \n",
      " 4   Size            8432 non-null   float64       \n",
      " 5   Installs        9659 non-null   object        \n",
      " 6   Type            9659 non-null   object        \n",
      " 7   Price ($)       9659 non-null   float64       \n",
      " 8   Content Rating  9659 non-null   object        \n",
      " 9   Genres          9659 non-null   object        \n",
      " 10  Last Updated    9659 non-null   datetime64[ns]\n",
      " 11  Current Ver     9651 non-null   object        \n",
      " 12  Android Ver     9657 non-null   object        \n",
      "dtypes: datetime64[ns](1), float64(3), int64(1), object(8)\n",
      "memory usage: 5.3 MB\n"
     ]
    }
   ],
   "source": [
    "# The Dtypes for the final Dataset\n",
    "apps.info(memory_usage=\"deep\")"
   ]
  },
  {
   "cell_type": "code",
   "execution_count": 10,
   "id": "840d22f7-4f6c-43f0-84d3-586d415b46b3",
   "metadata": {},
   "outputs": [
    {
     "data": {
      "text/html": [
       "<div>\n",
       "<style scoped>\n",
       "    .dataframe tbody tr th:only-of-type {\n",
       "        vertical-align: middle;\n",
       "    }\n",
       "\n",
       "    .dataframe tbody tr th {\n",
       "        vertical-align: top;\n",
       "    }\n",
       "\n",
       "    .dataframe thead th {\n",
       "        text-align: right;\n",
       "    }\n",
       "</style>\n",
       "<table border=\"1\" class=\"dataframe\">\n",
       "  <thead>\n",
       "    <tr style=\"text-align: right;\">\n",
       "      <th></th>\n",
       "      <th>App</th>\n",
       "      <th>Category</th>\n",
       "      <th>Rating</th>\n",
       "      <th>Reviews</th>\n",
       "      <th>Size</th>\n",
       "      <th>Installs</th>\n",
       "      <th>Type</th>\n",
       "      <th>Price ($)</th>\n",
       "      <th>Content Rating</th>\n",
       "      <th>Genres</th>\n",
       "      <th>Last Updated</th>\n",
       "      <th>Current Ver</th>\n",
       "      <th>Android Ver</th>\n",
       "    </tr>\n",
       "  </thead>\n",
       "  <tbody>\n",
       "    <tr>\n",
       "      <th>8028</th>\n",
       "      <td>Command &amp; Conquer: Rivals</td>\n",
       "      <td>FAMILY</td>\n",
       "      <td>NaN</td>\n",
       "      <td>0</td>\n",
       "      <td>NaN</td>\n",
       "      <td>0</td>\n",
       "      <td>Free</td>\n",
       "      <td>0.0</td>\n",
       "      <td>Everyone 10+</td>\n",
       "      <td>Strategy</td>\n",
       "      <td>2018-06-28</td>\n",
       "      <td>Varies with device</td>\n",
       "      <td>Varies with device</td>\n",
       "    </tr>\n",
       "  </tbody>\n",
       "</table>\n",
       "</div>"
      ],
      "text/plain": [
       "                            App Category  Rating  Reviews  Size Installs  \\\n",
       "8028  Command & Conquer: Rivals   FAMILY     NaN        0   NaN        0   \n",
       "\n",
       "      Type  Price ($) Content Rating    Genres Last Updated  \\\n",
       "8028  Free        0.0   Everyone 10+  Strategy   2018-06-28   \n",
       "\n",
       "             Current Ver         Android Ver  \n",
       "8028  Varies with device  Varies with device  "
      ]
     },
     "execution_count": 10,
     "metadata": {},
     "output_type": "execute_result"
    }
   ],
   "source": [
    "# Make Install categories uniform\n",
    "apps.query(\"Installs == '0'\")"
   ]
  },
  {
   "cell_type": "code",
   "execution_count": 11,
   "id": "11b7c557-8918-43c7-9403-1371beb557bd",
   "metadata": {},
   "outputs": [],
   "source": [
    "apps.loc[8028, \"Installs\"] = \"0+\""
   ]
  },
  {
   "cell_type": "code",
   "execution_count": 12,
   "id": "1eb8431b-c25c-4998-bfe9-093e558b6037",
   "metadata": {},
   "outputs": [
    {
     "data": {
      "text/html": [
       "<div>\n",
       "<style scoped>\n",
       "    .dataframe tbody tr th:only-of-type {\n",
       "        vertical-align: middle;\n",
       "    }\n",
       "\n",
       "    .dataframe tbody tr th {\n",
       "        vertical-align: top;\n",
       "    }\n",
       "\n",
       "    .dataframe thead th {\n",
       "        text-align: right;\n",
       "    }\n",
       "</style>\n",
       "<table border=\"1\" class=\"dataframe\">\n",
       "  <thead>\n",
       "    <tr style=\"text-align: right;\">\n",
       "      <th></th>\n",
       "      <th>App</th>\n",
       "      <th>Category</th>\n",
       "      <th>Rating</th>\n",
       "      <th>Reviews</th>\n",
       "      <th>Size</th>\n",
       "      <th>Installs</th>\n",
       "      <th>Type</th>\n",
       "      <th>Price ($)</th>\n",
       "      <th>Content Rating</th>\n",
       "      <th>Genres</th>\n",
       "      <th>Last Updated</th>\n",
       "      <th>Current Ver</th>\n",
       "      <th>Android Ver</th>\n",
       "    </tr>\n",
       "  </thead>\n",
       "  <tbody>\n",
       "    <tr>\n",
       "      <th>15</th>\n",
       "      <td>Learn To Draw Kawaii Characters</td>\n",
       "      <td>ART_AND_DESIGN</td>\n",
       "      <td>3.2</td>\n",
       "      <td>55</td>\n",
       "      <td>2.7</td>\n",
       "      <td>5,000+</td>\n",
       "      <td>Free</td>\n",
       "      <td>0.0</td>\n",
       "      <td>Everyone</td>\n",
       "      <td>Art &amp; Design</td>\n",
       "      <td>2018-06-06</td>\n",
       "      <td>NaN</td>\n",
       "      <td>4.2 and up</td>\n",
       "    </tr>\n",
       "    <tr>\n",
       "      <th>23</th>\n",
       "      <td>Mcqueen Coloring pages</td>\n",
       "      <td>ART_AND_DESIGN</td>\n",
       "      <td>NaN</td>\n",
       "      <td>61</td>\n",
       "      <td>7.0</td>\n",
       "      <td>100,000+</td>\n",
       "      <td>Free</td>\n",
       "      <td>0.0</td>\n",
       "      <td>Everyone</td>\n",
       "      <td>Art &amp; Design;Action &amp; Adventure</td>\n",
       "      <td>2018-03-07</td>\n",
       "      <td>1.0.0</td>\n",
       "      <td>4.1 and up</td>\n",
       "    </tr>\n",
       "    <tr>\n",
       "      <th>37</th>\n",
       "      <td>Floor Plan Creator</td>\n",
       "      <td>ART_AND_DESIGN</td>\n",
       "      <td>4.1</td>\n",
       "      <td>36639</td>\n",
       "      <td>NaN</td>\n",
       "      <td>5,000,000+</td>\n",
       "      <td>Free</td>\n",
       "      <td>0.0</td>\n",
       "      <td>Everyone</td>\n",
       "      <td>Art &amp; Design</td>\n",
       "      <td>2018-07-14</td>\n",
       "      <td>Varies with device</td>\n",
       "      <td>2.3.3 and up</td>\n",
       "    </tr>\n",
       "    <tr>\n",
       "      <th>42</th>\n",
       "      <td>Textgram - write on photos</td>\n",
       "      <td>ART_AND_DESIGN</td>\n",
       "      <td>4.4</td>\n",
       "      <td>295221</td>\n",
       "      <td>NaN</td>\n",
       "      <td>10,000,000+</td>\n",
       "      <td>Free</td>\n",
       "      <td>0.0</td>\n",
       "      <td>Everyone</td>\n",
       "      <td>Art &amp; Design</td>\n",
       "      <td>2018-07-30</td>\n",
       "      <td>Varies with device</td>\n",
       "      <td>Varies with device</td>\n",
       "    </tr>\n",
       "    <tr>\n",
       "      <th>52</th>\n",
       "      <td>Used Cars and Trucks for Sale</td>\n",
       "      <td>AUTO_AND_VEHICLES</td>\n",
       "      <td>4.6</td>\n",
       "      <td>17057</td>\n",
       "      <td>NaN</td>\n",
       "      <td>1,000,000+</td>\n",
       "      <td>Free</td>\n",
       "      <td>0.0</td>\n",
       "      <td>Everyone</td>\n",
       "      <td>Auto &amp; Vehicles</td>\n",
       "      <td>2018-07-30</td>\n",
       "      <td>Varies with device</td>\n",
       "      <td>Varies with device</td>\n",
       "    </tr>\n",
       "    <tr>\n",
       "      <th>...</th>\n",
       "      <td>...</td>\n",
       "      <td>...</td>\n",
       "      <td>...</td>\n",
       "      <td>...</td>\n",
       "      <td>...</td>\n",
       "      <td>...</td>\n",
       "      <td>...</td>\n",
       "      <td>...</td>\n",
       "      <td>...</td>\n",
       "      <td>...</td>\n",
       "      <td>...</td>\n",
       "      <td>...</td>\n",
       "      <td>...</td>\n",
       "    </tr>\n",
       "    <tr>\n",
       "      <th>9644</th>\n",
       "      <td>Frim: get new friends on local chat rooms</td>\n",
       "      <td>SOCIAL</td>\n",
       "      <td>4.0</td>\n",
       "      <td>88486</td>\n",
       "      <td>NaN</td>\n",
       "      <td>5,000,000+</td>\n",
       "      <td>Free</td>\n",
       "      <td>0.0</td>\n",
       "      <td>Mature 17+</td>\n",
       "      <td>Social</td>\n",
       "      <td>2018-03-23</td>\n",
       "      <td>Varies with device</td>\n",
       "      <td>Varies with device</td>\n",
       "    </tr>\n",
       "    <tr>\n",
       "      <th>9649</th>\n",
       "      <td>payermonstationnement.fr</td>\n",
       "      <td>MAPS_AND_NAVIGATION</td>\n",
       "      <td>NaN</td>\n",
       "      <td>38</td>\n",
       "      <td>9.8</td>\n",
       "      <td>5,000+</td>\n",
       "      <td>Free</td>\n",
       "      <td>0.0</td>\n",
       "      <td>Everyone</td>\n",
       "      <td>Maps &amp; Navigation</td>\n",
       "      <td>2018-06-13</td>\n",
       "      <td>2.0.148.0</td>\n",
       "      <td>4.0 and up</td>\n",
       "    </tr>\n",
       "    <tr>\n",
       "      <th>9653</th>\n",
       "      <td>FR Forms</td>\n",
       "      <td>BUSINESS</td>\n",
       "      <td>NaN</td>\n",
       "      <td>0</td>\n",
       "      <td>9.6</td>\n",
       "      <td>10+</td>\n",
       "      <td>Free</td>\n",
       "      <td>0.0</td>\n",
       "      <td>Everyone</td>\n",
       "      <td>Business</td>\n",
       "      <td>2016-09-29</td>\n",
       "      <td>1.1.5</td>\n",
       "      <td>4.0 and up</td>\n",
       "    </tr>\n",
       "    <tr>\n",
       "      <th>9656</th>\n",
       "      <td>Parkinson Exercices FR</td>\n",
       "      <td>MEDICAL</td>\n",
       "      <td>NaN</td>\n",
       "      <td>3</td>\n",
       "      <td>9.5</td>\n",
       "      <td>1,000+</td>\n",
       "      <td>Free</td>\n",
       "      <td>0.0</td>\n",
       "      <td>Everyone</td>\n",
       "      <td>Medical</td>\n",
       "      <td>2017-01-20</td>\n",
       "      <td>1</td>\n",
       "      <td>2.2 and up</td>\n",
       "    </tr>\n",
       "    <tr>\n",
       "      <th>9657</th>\n",
       "      <td>The SCP Foundation DB fr nn5n</td>\n",
       "      <td>BOOKS_AND_REFERENCE</td>\n",
       "      <td>4.5</td>\n",
       "      <td>114</td>\n",
       "      <td>NaN</td>\n",
       "      <td>1,000+</td>\n",
       "      <td>Free</td>\n",
       "      <td>0.0</td>\n",
       "      <td>Mature 17+</td>\n",
       "      <td>Books &amp; Reference</td>\n",
       "      <td>2015-01-19</td>\n",
       "      <td>Varies with device</td>\n",
       "      <td>Varies with device</td>\n",
       "    </tr>\n",
       "  </tbody>\n",
       "</table>\n",
       "<p>2638 rows × 13 columns</p>\n",
       "</div>"
      ],
      "text/plain": [
       "                                            App             Category  Rating  \\\n",
       "15              Learn To Draw Kawaii Characters       ART_AND_DESIGN     3.2   \n",
       "23                       Mcqueen Coloring pages       ART_AND_DESIGN     NaN   \n",
       "37                           Floor Plan Creator       ART_AND_DESIGN     4.1   \n",
       "42                   Textgram - write on photos       ART_AND_DESIGN     4.4   \n",
       "52                Used Cars and Trucks for Sale    AUTO_AND_VEHICLES     4.6   \n",
       "...                                         ...                  ...     ...   \n",
       "9644  Frim: get new friends on local chat rooms               SOCIAL     4.0   \n",
       "9649                   payermonstationnement.fr  MAPS_AND_NAVIGATION     NaN   \n",
       "9653                                   FR Forms             BUSINESS     NaN   \n",
       "9656                     Parkinson Exercices FR              MEDICAL     NaN   \n",
       "9657              The SCP Foundation DB fr nn5n  BOOKS_AND_REFERENCE     4.5   \n",
       "\n",
       "      Reviews  Size     Installs  Type  Price ($) Content Rating  \\\n",
       "15         55   2.7       5,000+  Free        0.0       Everyone   \n",
       "23         61   7.0     100,000+  Free        0.0       Everyone   \n",
       "37      36639   NaN   5,000,000+  Free        0.0       Everyone   \n",
       "42     295221   NaN  10,000,000+  Free        0.0       Everyone   \n",
       "52      17057   NaN   1,000,000+  Free        0.0       Everyone   \n",
       "...       ...   ...          ...   ...        ...            ...   \n",
       "9644    88486   NaN   5,000,000+  Free        0.0     Mature 17+   \n",
       "9649       38   9.8       5,000+  Free        0.0       Everyone   \n",
       "9653        0   9.6          10+  Free        0.0       Everyone   \n",
       "9656        3   9.5       1,000+  Free        0.0       Everyone   \n",
       "9657      114   NaN       1,000+  Free        0.0     Mature 17+   \n",
       "\n",
       "                               Genres Last Updated         Current Ver  \\\n",
       "15                       Art & Design   2018-06-06                 NaN   \n",
       "23    Art & Design;Action & Adventure   2018-03-07               1.0.0   \n",
       "37                       Art & Design   2018-07-14  Varies with device   \n",
       "42                       Art & Design   2018-07-30  Varies with device   \n",
       "52                    Auto & Vehicles   2018-07-30  Varies with device   \n",
       "...                               ...          ...                 ...   \n",
       "9644                           Social   2018-03-23  Varies with device   \n",
       "9649                Maps & Navigation   2018-06-13           2.0.148.0   \n",
       "9653                         Business   2016-09-29               1.1.5   \n",
       "9656                          Medical   2017-01-20                   1   \n",
       "9657                Books & Reference   2015-01-19  Varies with device   \n",
       "\n",
       "             Android Ver  \n",
       "15            4.2 and up  \n",
       "23            4.1 and up  \n",
       "37          2.3.3 and up  \n",
       "42    Varies with device  \n",
       "52    Varies with device  \n",
       "...                  ...  \n",
       "9644  Varies with device  \n",
       "9649          4.0 and up  \n",
       "9653          4.0 and up  \n",
       "9656          2.2 and up  \n",
       "9657  Varies with device  \n",
       "\n",
       "[2638 rows x 13 columns]"
      ]
     },
     "execution_count": 12,
     "metadata": {},
     "output_type": "execute_result"
    }
   ],
   "source": [
    "# Checking for NaN values (NaN left in the dataset)\n",
    "apps[apps.isna().any(axis=1)]"
   ]
  },
  {
   "cell_type": "markdown",
   "id": "a3b8a3ec-4802-4f63-99fe-c701ebbe7921",
   "metadata": {},
   "source": [
    "## Save cleaned app file as pickle file"
   ]
  },
  {
   "cell_type": "code",
   "execution_count": 13,
   "id": "feadf7fa-ffdc-4966-8c5e-e42c7343d262",
   "metadata": {},
   "outputs": [],
   "source": [
    "#pd.to_pickle(apps, \"cleaned_apps.pkl\")"
   ]
  },
  {
   "cell_type": "markdown",
   "id": "bfce1712-dbc1-48b7-bb66-61a88a94dbbd",
   "metadata": {},
   "source": [
    "## Further Data EDA"
   ]
  },
  {
   "cell_type": "code",
   "execution_count": 14,
   "id": "6c736dcc-17d1-4628-aafd-a4574dc778c3",
   "metadata": {},
   "outputs": [
    {
     "data": {
      "text/plain": [
       "Installs\n",
       "1,000,000+        1417\n",
       "100,000+          1112\n",
       "10,000+           1031\n",
       "10,000,000+        937\n",
       "1,000+             888\n",
       "100+               710\n",
       "5,000,000+         607\n",
       "500,000+           505\n",
       "50,000+            469\n",
       "5,000+             468\n",
       "10+                385\n",
       "500+               328\n",
       "50+                204\n",
       "50,000,000+        202\n",
       "100,000,000+       188\n",
       "5+                  82\n",
       "1+                  67\n",
       "500,000,000+        24\n",
       "1,000,000,000+      20\n",
       "0+                  15\n",
       "Name: count, dtype: int64"
      ]
     },
     "execution_count": 14,
     "metadata": {},
     "output_type": "execute_result"
    }
   ],
   "source": [
    "apps[\"Installs\"].value_counts()"
   ]
  },
  {
   "cell_type": "code",
   "execution_count": 15,
   "id": "d6b23fcc-0339-4ce9-a628-3eb09e53ac2c",
   "metadata": {},
   "outputs": [],
   "source": [
    "# Installs above 500,000,000\n",
    "mask = (apps.Installs == \"500,000,000+\") | (apps.Installs == \"1,000,000,000+\")\n",
    "\n",
    "# Installs above 100,000,000\n",
    "mask2 = (apps.Installs == \"500,000,000+\") | (apps.Installs == \"1,000,000,000+\") | (apps.Installs == \"100,000,000+\")\n",
    "\n",
    "# Installs above 1,000,000\n",
    "mask3 = (apps.Installs == \"500,000,000+\") | (apps.Installs == \"1,000,000,000+\") | (apps.Installs == \"100,000,000+\") | (apps.Installs == \"50,000,000+\") | (apps.Installs == \"5,000,000+\") | (apps.Installs == \"10,000,000+\") | (apps.Installs == \"1,000,000+\")\n",
    "\n",
    "# Installs below 1,000,000\n",
    "mask4 = (apps.Installs == \"500,000+\") | (apps.Installs == \"100,000+\") | (apps.Installs == \"10,000+\") | (apps.Installs == \"1,000+\") | (apps.Installs == \"100+\") | (apps.Installs == \"50,000+\") | (apps.Installs == \"5,000+\") | (apps.Installs == \"10+\") | (apps.Installs == \"500+\") | (apps.Installs == \"50+\") | (apps.Installs == \"500,000+\") | (apps.Installs == \"5+\") | (apps.Installs == \"1+\") | (apps.Installs == \"0+\")"
   ]
  },
  {
   "cell_type": "code",
   "execution_count": 16,
   "id": "ca3b88bf-ccb1-4af1-a55d-1591f9af90d7",
   "metadata": {},
   "outputs": [],
   "source": [
    "app_installs_500M = apps.query(\"@mask\")\n",
    "app_installs_100M = apps.query(\"@mask2\")\n",
    "app_installs_1M = apps.query(\"@mask3\")\n",
    "app_installs_below_1M = apps.query(\"@mask4\")"
   ]
  },
  {
   "cell_type": "code",
   "execution_count": 17,
   "id": "4dadd4c4-5e5e-4efa-bef1-11ec15386fa0",
   "metadata": {},
   "outputs": [
    {
     "data": {
      "text/plain": [
       "(6264, 13)"
      ]
     },
     "execution_count": 17,
     "metadata": {},
     "output_type": "execute_result"
    }
   ],
   "source": [
    "app_installs_below_1M.shape"
   ]
  },
  {
   "cell_type": "code",
   "execution_count": 18,
   "id": "2cac0ada-dc11-4e00-b1ef-ca8e58a7798a",
   "metadata": {},
   "outputs": [
    {
     "data": {
      "text/plain": [
       "(3395, 13)"
      ]
     },
     "execution_count": 18,
     "metadata": {},
     "output_type": "execute_result"
    }
   ],
   "source": [
    "app_installs_1M.shape"
   ]
  },
  {
   "cell_type": "code",
   "execution_count": 19,
   "id": "facfa8d2-bd25-42ad-9f1f-d30e7ada09af",
   "metadata": {},
   "outputs": [
    {
     "data": {
      "text/plain": [
       "(232, 13)"
      ]
     },
     "execution_count": 19,
     "metadata": {},
     "output_type": "execute_result"
    }
   ],
   "source": [
    "app_installs_100M.shape"
   ]
  },
  {
   "cell_type": "code",
   "execution_count": 20,
   "id": "02102010-5757-414c-ab6c-7c0a027e152b",
   "metadata": {},
   "outputs": [
    {
     "data": {
      "text/plain": [
       "(44, 13)"
      ]
     },
     "execution_count": 20,
     "metadata": {},
     "output_type": "execute_result"
    }
   ],
   "source": [
    "app_installs_500M.shape"
   ]
  },
  {
   "cell_type": "code",
   "execution_count": 21,
   "id": "d4a780d6-d5f0-4e1a-adda-e2ce40492792",
   "metadata": {},
   "outputs": [
    {
     "data": {
      "text/plain": [
       "Category\n",
       "COMMUNICATION    11\n",
       "TOOLS             6\n",
       "GAME              5\n",
       "SOCIAL            5\n",
       "PRODUCTIVITY      5\n",
       "Name: count, dtype: int64"
      ]
     },
     "execution_count": 21,
     "metadata": {},
     "output_type": "execute_result"
    }
   ],
   "source": [
    "app_installs_500M.Category.value_counts().sort_values(ascending=False).head()"
   ]
  },
  {
   "cell_type": "code",
   "execution_count": 22,
   "id": "21507fe2-c844-4405-94fe-73f73d602430",
   "metadata": {},
   "outputs": [
    {
     "data": {
      "text/plain": [
       "Category\n",
       "FAMILY      1303\n",
       "TOOLS        554\n",
       "GAME         406\n",
       "MEDICAL      377\n",
       "BUSINESS     351\n",
       "Name: count, dtype: int64"
      ]
     },
     "execution_count": 22,
     "metadata": {},
     "output_type": "execute_result"
    }
   ],
   "source": [
    "app_installs_below_1M.Category.value_counts().sort_values(ascending=False).head()"
   ]
  },
  {
   "cell_type": "code",
   "execution_count": 23,
   "id": "f0248eb0-72bb-4d73-b6f8-5cc192665cba",
   "metadata": {},
   "outputs": [
    {
     "data": {
      "text/plain": [
       "Category\n",
       "GAME            553\n",
       "FAMILY          529\n",
       "TOOLS           273\n",
       "PHOTOGRAPHY     173\n",
       "PRODUCTIVITY    147\n",
       "Name: count, dtype: int64"
      ]
     },
     "execution_count": 23,
     "metadata": {},
     "output_type": "execute_result"
    }
   ],
   "source": [
    "app_installs_1M.Category.value_counts().sort_values(ascending=False).head()"
   ]
  },
  {
   "cell_type": "code",
   "execution_count": 24,
   "id": "556afab2-ed64-4076-aed9-97327dd8e1c2",
   "metadata": {},
   "outputs": [
    {
     "data": {
      "text/plain": [
       "Category\n",
       "FAMILY      1832\n",
       "GAME         959\n",
       "TOOLS        827\n",
       "BUSINESS     420\n",
       "MEDICAL      395\n",
       "Name: count, dtype: int64"
      ]
     },
     "execution_count": 24,
     "metadata": {},
     "output_type": "execute_result"
    }
   ],
   "source": [
    "apps.Category.value_counts().sort_values(ascending=False).head()"
   ]
  },
  {
   "cell_type": "code",
   "execution_count": 25,
   "id": "e86590db-e5d1-4314-be7f-458492d28e59",
   "metadata": {},
   "outputs": [
    {
     "data": {
      "image/png": "[encoded data removed]",
      "text/plain": [
       "<Figure size 640x480 with 2 Axes>"
      ]
     },
     "metadata": {},
     "output_type": "display_data"
    }
   ],
   "source": [
    "sns.heatmap(apps.corr(numeric_only=True),\n",
    "            annot=True,\n",
    "            vmin=-1,\n",
    "            vmax=1,\n",
    "            linewidths=0.5,\n",
    "            cmap=\"coolwarm\"\n",
    "           );"
   ]
  },
  {
   "cell_type": "markdown",
   "id": "bb5d99b7-30f0-4838-930d-3971b8281b29",
   "metadata": {},
   "source": [
    "### Data cleaning of second dataset"
   ]
  },
  {
   "cell_type": "code",
   "execution_count": 26,
   "id": "533fbf7e-aee4-4cf9-b94d-d78c52ffa3c3",
   "metadata": {},
   "outputs": [
    {
     "data": {
      "text/plain": [
       "App                           0\n",
       "Translated_Review         26868\n",
       "Sentiment                 26863\n",
       "Sentiment_Polarity        26863\n",
       "Sentiment_Subjectivity    26863\n",
       "dtype: int64"
      ]
     },
     "execution_count": 26,
     "metadata": {},
     "output_type": "execute_result"
    }
   ],
   "source": [
    "reviews.isna().sum()"
   ]
  },
  {
   "cell_type": "code",
   "execution_count": 27,
   "id": "cad47c6d-079e-4ab6-9bd8-10a756428175",
   "metadata": {},
   "outputs": [
    {
     "data": {
      "text/plain": [
       "Sentiment\n",
       "Positive    23998\n",
       "Negative     8271\n",
       "Neutral      5163\n",
       "Name: count, dtype: int64"
      ]
     },
     "execution_count": 27,
     "metadata": {},
     "output_type": "execute_result"
    }
   ],
   "source": [
    "reviews.Sentiment.value_counts()"
   ]
  },
  {
   "cell_type": "code",
   "execution_count": 28,
   "id": "832e3ea1-4e8f-4dbd-8242-1424ce51f847",
   "metadata": {},
   "outputs": [],
   "source": [
    "reviews2 = reviews.dropna(subset=[\"Sentiment\", \"Translated_Review\"])"
   ]
  },
  {
   "cell_type": "code",
   "execution_count": 29,
   "id": "4942029c-f605-45e5-9d21-7ac81d7768c5",
   "metadata": {},
   "outputs": [
    {
     "data": {
      "text/html": [
       "<div>\n",
       "<style scoped>\n",
       "    .dataframe tbody tr th:only-of-type {\n",
       "        vertical-align: middle;\n",
       "    }\n",
       "\n",
       "    .dataframe tbody tr th {\n",
       "        vertical-align: top;\n",
       "    }\n",
       "\n",
       "    .dataframe thead th {\n",
       "        text-align: right;\n",
       "    }\n",
       "</style>\n",
       "<table border=\"1\" class=\"dataframe\">\n",
       "  <thead>\n",
       "    <tr style=\"text-align: right;\">\n",
       "      <th></th>\n",
       "      <th>App</th>\n",
       "      <th>Translated_Review</th>\n",
       "      <th>Sentiment</th>\n",
       "      <th>Sentiment_Polarity</th>\n",
       "      <th>Sentiment_Subjectivity</th>\n",
       "    </tr>\n",
       "  </thead>\n",
       "  <tbody>\n",
       "    <tr>\n",
       "      <th>0</th>\n",
       "      <td>10 Best Foods for You</td>\n",
       "      <td>I like eat delicious food. That's I'm cooking ...</td>\n",
       "      <td>Positive</td>\n",
       "      <td>1.00</td>\n",
       "      <td>0.533333</td>\n",
       "    </tr>\n",
       "    <tr>\n",
       "      <th>1</th>\n",
       "      <td>10 Best Foods for You</td>\n",
       "      <td>This help eating healthy exercise regular basis</td>\n",
       "      <td>Positive</td>\n",
       "      <td>0.25</td>\n",
       "      <td>0.288462</td>\n",
       "    </tr>\n",
       "    <tr>\n",
       "      <th>3</th>\n",
       "      <td>10 Best Foods for You</td>\n",
       "      <td>Works great especially going grocery store</td>\n",
       "      <td>Positive</td>\n",
       "      <td>0.40</td>\n",
       "      <td>0.875000</td>\n",
       "    </tr>\n",
       "    <tr>\n",
       "      <th>4</th>\n",
       "      <td>10 Best Foods for You</td>\n",
       "      <td>Best idea us</td>\n",
       "      <td>Positive</td>\n",
       "      <td>1.00</td>\n",
       "      <td>0.300000</td>\n",
       "    </tr>\n",
       "    <tr>\n",
       "      <th>5</th>\n",
       "      <td>10 Best Foods for You</td>\n",
       "      <td>Best way</td>\n",
       "      <td>Positive</td>\n",
       "      <td>1.00</td>\n",
       "      <td>0.300000</td>\n",
       "    </tr>\n",
       "  </tbody>\n",
       "</table>\n",
       "</div>"
      ],
      "text/plain": [
       "                     App                                  Translated_Review  \\\n",
       "0  10 Best Foods for You  I like eat delicious food. That's I'm cooking ...   \n",
       "1  10 Best Foods for You    This help eating healthy exercise regular basis   \n",
       "3  10 Best Foods for You         Works great especially going grocery store   \n",
       "4  10 Best Foods for You                                       Best idea us   \n",
       "5  10 Best Foods for You                                           Best way   \n",
       "\n",
       "  Sentiment  Sentiment_Polarity  Sentiment_Subjectivity  \n",
       "0  Positive                1.00                0.533333  \n",
       "1  Positive                0.25                0.288462  \n",
       "3  Positive                0.40                0.875000  \n",
       "4  Positive                1.00                0.300000  \n",
       "5  Positive                1.00                0.300000  "
      ]
     },
     "execution_count": 29,
     "metadata": {},
     "output_type": "execute_result"
    }
   ],
   "source": [
    "reviews2.head()"
   ]
  },
  {
   "cell_type": "code",
   "execution_count": 30,
   "id": "552db728-5a4e-44cf-a2a9-b150f35abdb3",
   "metadata": {},
   "outputs": [
    {
     "data": {
      "text/html": [
       "<div>\n",
       "<style scoped>\n",
       "    .dataframe tbody tr th:only-of-type {\n",
       "        vertical-align: middle;\n",
       "    }\n",
       "\n",
       "    .dataframe tbody tr th {\n",
       "        vertical-align: top;\n",
       "    }\n",
       "\n",
       "    .dataframe thead th {\n",
       "        text-align: right;\n",
       "    }\n",
       "</style>\n",
       "<table border=\"1\" class=\"dataframe\">\n",
       "  <thead>\n",
       "    <tr style=\"text-align: right;\">\n",
       "      <th></th>\n",
       "      <th>App</th>\n",
       "      <th>Translated_Review</th>\n",
       "      <th>Sentiment</th>\n",
       "      <th>Sentiment_Polarity</th>\n",
       "      <th>Sentiment_Subjectivity</th>\n",
       "    </tr>\n",
       "  </thead>\n",
       "  <tbody>\n",
       "  </tbody>\n",
       "</table>\n",
       "</div>"
      ],
      "text/plain": [
       "Empty DataFrame\n",
       "Columns: [App, Translated_Review, Sentiment, Sentiment_Polarity, Sentiment_Subjectivity]\n",
       "Index: []"
      ]
     },
     "execution_count": 30,
     "metadata": {},
     "output_type": "execute_result"
    }
   ],
   "source": [
    "reviews2[reviews2.isna().any(axis=1)]"
   ]
  },
  {
   "cell_type": "code",
   "execution_count": 31,
   "id": "41e11e14-cf67-449b-8fb0-d94a615f5b2f",
   "metadata": {},
   "outputs": [],
   "source": [
    "reviews2 = reviews2.reset_index(drop=True)"
   ]
  },
  {
   "cell_type": "code",
   "execution_count": 32,
   "id": "27f656b3-30ca-4034-8430-5e4987b868d4",
   "metadata": {},
   "outputs": [
    {
     "data": {
      "text/html": [
       "<div>\n",
       "<style scoped>\n",
       "    .dataframe tbody tr th:only-of-type {\n",
       "        vertical-align: middle;\n",
       "    }\n",
       "\n",
       "    .dataframe tbody tr th {\n",
       "        vertical-align: top;\n",
       "    }\n",
       "\n",
       "    .dataframe thead th {\n",
       "        text-align: right;\n",
       "    }\n",
       "</style>\n",
       "<table border=\"1\" class=\"dataframe\">\n",
       "  <thead>\n",
       "    <tr style=\"text-align: right;\">\n",
       "      <th></th>\n",
       "      <th>App</th>\n",
       "      <th>Translated_Review</th>\n",
       "      <th>Sentiment</th>\n",
       "      <th>Sentiment_Polarity</th>\n",
       "      <th>Sentiment_Subjectivity</th>\n",
       "    </tr>\n",
       "  </thead>\n",
       "  <tbody>\n",
       "    <tr>\n",
       "      <th>6</th>\n",
       "      <td>10 Best Foods for You</td>\n",
       "      <td>Looking forward app,</td>\n",
       "      <td>Neutral</td>\n",
       "      <td>0.0</td>\n",
       "      <td>0.0</td>\n",
       "    </tr>\n",
       "    <tr>\n",
       "      <th>7</th>\n",
       "      <td>10 Best Foods for You</td>\n",
       "      <td>It helpful site ! It help foods get !</td>\n",
       "      <td>Neutral</td>\n",
       "      <td>0.0</td>\n",
       "      <td>0.0</td>\n",
       "    </tr>\n",
       "    <tr>\n",
       "      <th>19</th>\n",
       "      <td>10 Best Foods for You</td>\n",
       "      <td>God health</td>\n",
       "      <td>Neutral</td>\n",
       "      <td>0.0</td>\n",
       "      <td>0.0</td>\n",
       "    </tr>\n",
       "    <tr>\n",
       "      <th>22</th>\n",
       "      <td>10 Best Foods for You</td>\n",
       "      <td>I found lot wealth form health...</td>\n",
       "      <td>Neutral</td>\n",
       "      <td>0.0</td>\n",
       "      <td>0.0</td>\n",
       "    </tr>\n",
       "    <tr>\n",
       "      <th>26</th>\n",
       "      <td>10 Best Foods for You</td>\n",
       "      <td>On test....</td>\n",
       "      <td>Neutral</td>\n",
       "      <td>0.0</td>\n",
       "      <td>0.0</td>\n",
       "    </tr>\n",
       "    <tr>\n",
       "      <th>...</th>\n",
       "      <td>...</td>\n",
       "      <td>...</td>\n",
       "      <td>...</td>\n",
       "      <td>...</td>\n",
       "      <td>...</td>\n",
       "    </tr>\n",
       "    <tr>\n",
       "      <th>37401</th>\n",
       "      <td>Hotwire Hotel &amp; Car Rental App</td>\n",
       "      <td>Solid app. No issues yet. Been using year.</td>\n",
       "      <td>Neutral</td>\n",
       "      <td>0.0</td>\n",
       "      <td>0.1</td>\n",
       "    </tr>\n",
       "    <tr>\n",
       "      <th>37405</th>\n",
       "      <td>Hotwire Hotel &amp; Car Rental App</td>\n",
       "      <td>Keeps telling there's problem date time, can't...</td>\n",
       "      <td>Neutral</td>\n",
       "      <td>0.0</td>\n",
       "      <td>0.0</td>\n",
       "    </tr>\n",
       "    <tr>\n",
       "      <th>37410</th>\n",
       "      <td>Housing-Real Estate &amp; Property</td>\n",
       "      <td>Why business? Your filters don't work.. redire...</td>\n",
       "      <td>Neutral</td>\n",
       "      <td>0.0</td>\n",
       "      <td>0.0</td>\n",
       "    </tr>\n",
       "    <tr>\n",
       "      <th>37412</th>\n",
       "      <td>Housing-Real Estate &amp; Property</td>\n",
       "      <td>I want list property sale option. Please connect</td>\n",
       "      <td>Neutral</td>\n",
       "      <td>0.0</td>\n",
       "      <td>0.0</td>\n",
       "    </tr>\n",
       "    <tr>\n",
       "      <th>37419</th>\n",
       "      <td>Housing-Real Estate &amp; Property</td>\n",
       "      <td>What nonsensical app.. doesn't owner postings ...</td>\n",
       "      <td>Neutral</td>\n",
       "      <td>0.0</td>\n",
       "      <td>0.0</td>\n",
       "    </tr>\n",
       "  </tbody>\n",
       "</table>\n",
       "<p>5158 rows × 5 columns</p>\n",
       "</div>"
      ],
      "text/plain": [
       "                                  App  \\\n",
       "6               10 Best Foods for You   \n",
       "7               10 Best Foods for You   \n",
       "19              10 Best Foods for You   \n",
       "22              10 Best Foods for You   \n",
       "26              10 Best Foods for You   \n",
       "...                               ...   \n",
       "37401  Hotwire Hotel & Car Rental App   \n",
       "37405  Hotwire Hotel & Car Rental App   \n",
       "37410  Housing-Real Estate & Property   \n",
       "37412  Housing-Real Estate & Property   \n",
       "37419  Housing-Real Estate & Property   \n",
       "\n",
       "                                       Translated_Review Sentiment  \\\n",
       "6                                   Looking forward app,   Neutral   \n",
       "7                  It helpful site ! It help foods get !   Neutral   \n",
       "19                                            God health   Neutral   \n",
       "22                     I found lot wealth form health...   Neutral   \n",
       "26                                           On test....   Neutral   \n",
       "...                                                  ...       ...   \n",
       "37401         Solid app. No issues yet. Been using year.   Neutral   \n",
       "37405  Keeps telling there's problem date time, can't...   Neutral   \n",
       "37410  Why business? Your filters don't work.. redire...   Neutral   \n",
       "37412   I want list property sale option. Please connect   Neutral   \n",
       "37419  What nonsensical app.. doesn't owner postings ...   Neutral   \n",
       "\n",
       "       Sentiment_Polarity  Sentiment_Subjectivity  \n",
       "6                     0.0                     0.0  \n",
       "7                     0.0                     0.0  \n",
       "19                    0.0                     0.0  \n",
       "22                    0.0                     0.0  \n",
       "26                    0.0                     0.0  \n",
       "...                   ...                     ...  \n",
       "37401                 0.0                     0.1  \n",
       "37405                 0.0                     0.0  \n",
       "37410                 0.0                     0.0  \n",
       "37412                 0.0                     0.0  \n",
       "37419                 0.0                     0.0  \n",
       "\n",
       "[5158 rows x 5 columns]"
      ]
     },
     "execution_count": 32,
     "metadata": {},
     "output_type": "execute_result"
    }
   ],
   "source": [
    "reviews2[reviews2.Sentiment == \"Neutral\"]"
   ]
  },
  {
   "cell_type": "markdown",
   "id": "708fdef5-9341-41a3-a647-6d22fcb617ee",
   "metadata": {},
   "source": [
    "## Merging 2 dataframes (apps and reviews)"
   ]
  },
  {
   "cell_type": "code",
   "execution_count": 33,
   "id": "67d85da5-5a1a-4377-a521-e608a057c4d1",
   "metadata": {},
   "outputs": [],
   "source": [
    "apps_and_reviews = apps.merge(\n",
    "    reviews2,\n",
    "    \"inner\",\n",
    "    \"App\"\n",
    ").reset_index(drop=True)"
   ]
  },
  {
   "cell_type": "code",
   "execution_count": 34,
   "id": "9de0fa07-5f4c-4727-b4c5-ad272d554fcb",
   "metadata": {},
   "outputs": [
    {
     "data": {
      "text/html": [
       "<div>\n",
       "<style scoped>\n",
       "    .dataframe tbody tr th:only-of-type {\n",
       "        vertical-align: middle;\n",
       "    }\n",
       "\n",
       "    .dataframe tbody tr th {\n",
       "        vertical-align: top;\n",
       "    }\n",
       "\n",
       "    .dataframe thead th {\n",
       "        text-align: right;\n",
       "    }\n",
       "</style>\n",
       "<table border=\"1\" class=\"dataframe\">\n",
       "  <thead>\n",
       "    <tr style=\"text-align: right;\">\n",
       "      <th></th>\n",
       "      <th>App</th>\n",
       "      <th>Category</th>\n",
       "      <th>Rating</th>\n",
       "      <th>Reviews</th>\n",
       "      <th>Size</th>\n",
       "      <th>Installs</th>\n",
       "      <th>Type</th>\n",
       "      <th>Price ($)</th>\n",
       "      <th>Content Rating</th>\n",
       "      <th>Genres</th>\n",
       "      <th>Last Updated</th>\n",
       "      <th>Current Ver</th>\n",
       "      <th>Android Ver</th>\n",
       "      <th>Translated_Review</th>\n",
       "      <th>Sentiment</th>\n",
       "      <th>Sentiment_Polarity</th>\n",
       "      <th>Sentiment_Subjectivity</th>\n",
       "    </tr>\n",
       "  </thead>\n",
       "  <tbody>\n",
       "    <tr>\n",
       "      <th>0</th>\n",
       "      <td>Coloring book moana</td>\n",
       "      <td>ART_AND_DESIGN</td>\n",
       "      <td>3.9</td>\n",
       "      <td>967</td>\n",
       "      <td>14.0</td>\n",
       "      <td>500,000+</td>\n",
       "      <td>Free</td>\n",
       "      <td>0.0</td>\n",
       "      <td>Everyone</td>\n",
       "      <td>Art &amp; Design;Pretend Play</td>\n",
       "      <td>2018-01-15</td>\n",
       "      <td>2.0.0</td>\n",
       "      <td>4.0.3 and up</td>\n",
       "      <td>A kid's excessive ads. The types ads allowed a...</td>\n",
       "      <td>Negative</td>\n",
       "      <td>-0.250</td>\n",
       "      <td>1.000000</td>\n",
       "    </tr>\n",
       "    <tr>\n",
       "      <th>1</th>\n",
       "      <td>Coloring book moana</td>\n",
       "      <td>ART_AND_DESIGN</td>\n",
       "      <td>3.9</td>\n",
       "      <td>967</td>\n",
       "      <td>14.0</td>\n",
       "      <td>500,000+</td>\n",
       "      <td>Free</td>\n",
       "      <td>0.0</td>\n",
       "      <td>Everyone</td>\n",
       "      <td>Art &amp; Design;Pretend Play</td>\n",
       "      <td>2018-01-15</td>\n",
       "      <td>2.0.0</td>\n",
       "      <td>4.0.3 and up</td>\n",
       "      <td>It bad &gt;:(</td>\n",
       "      <td>Negative</td>\n",
       "      <td>-0.725</td>\n",
       "      <td>0.833333</td>\n",
       "    </tr>\n",
       "    <tr>\n",
       "      <th>2</th>\n",
       "      <td>Coloring book moana</td>\n",
       "      <td>ART_AND_DESIGN</td>\n",
       "      <td>3.9</td>\n",
       "      <td>967</td>\n",
       "      <td>14.0</td>\n",
       "      <td>500,000+</td>\n",
       "      <td>Free</td>\n",
       "      <td>0.0</td>\n",
       "      <td>Everyone</td>\n",
       "      <td>Art &amp; Design;Pretend Play</td>\n",
       "      <td>2018-01-15</td>\n",
       "      <td>2.0.0</td>\n",
       "      <td>4.0.3 and up</td>\n",
       "      <td>like</td>\n",
       "      <td>Neutral</td>\n",
       "      <td>0.000</td>\n",
       "      <td>0.000000</td>\n",
       "    </tr>\n",
       "    <tr>\n",
       "      <th>3</th>\n",
       "      <td>Coloring book moana</td>\n",
       "      <td>ART_AND_DESIGN</td>\n",
       "      <td>3.9</td>\n",
       "      <td>967</td>\n",
       "      <td>14.0</td>\n",
       "      <td>500,000+</td>\n",
       "      <td>Free</td>\n",
       "      <td>0.0</td>\n",
       "      <td>Everyone</td>\n",
       "      <td>Art &amp; Design;Pretend Play</td>\n",
       "      <td>2018-01-15</td>\n",
       "      <td>2.0.0</td>\n",
       "      <td>4.0.3 and up</td>\n",
       "      <td>I love colors inspyering</td>\n",
       "      <td>Positive</td>\n",
       "      <td>0.500</td>\n",
       "      <td>0.600000</td>\n",
       "    </tr>\n",
       "    <tr>\n",
       "      <th>4</th>\n",
       "      <td>Coloring book moana</td>\n",
       "      <td>ART_AND_DESIGN</td>\n",
       "      <td>3.9</td>\n",
       "      <td>967</td>\n",
       "      <td>14.0</td>\n",
       "      <td>500,000+</td>\n",
       "      <td>Free</td>\n",
       "      <td>0.0</td>\n",
       "      <td>Everyone</td>\n",
       "      <td>Art &amp; Design;Pretend Play</td>\n",
       "      <td>2018-01-15</td>\n",
       "      <td>2.0.0</td>\n",
       "      <td>4.0.3 and up</td>\n",
       "      <td>I hate</td>\n",
       "      <td>Negative</td>\n",
       "      <td>-0.800</td>\n",
       "      <td>0.900000</td>\n",
       "    </tr>\n",
       "  </tbody>\n",
       "</table>\n",
       "</div>"
      ],
      "text/plain": [
       "                   App        Category  Rating  Reviews  Size  Installs  Type  \\\n",
       "0  Coloring book moana  ART_AND_DESIGN     3.9      967  14.0  500,000+  Free   \n",
       "1  Coloring book moana  ART_AND_DESIGN     3.9      967  14.0  500,000+  Free   \n",
       "2  Coloring book moana  ART_AND_DESIGN     3.9      967  14.0  500,000+  Free   \n",
       "3  Coloring book moana  ART_AND_DESIGN     3.9      967  14.0  500,000+  Free   \n",
       "4  Coloring book moana  ART_AND_DESIGN     3.9      967  14.0  500,000+  Free   \n",
       "\n",
       "   Price ($) Content Rating                     Genres Last Updated  \\\n",
       "0        0.0       Everyone  Art & Design;Pretend Play   2018-01-15   \n",
       "1        0.0       Everyone  Art & Design;Pretend Play   2018-01-15   \n",
       "2        0.0       Everyone  Art & Design;Pretend Play   2018-01-15   \n",
       "3        0.0       Everyone  Art & Design;Pretend Play   2018-01-15   \n",
       "4        0.0       Everyone  Art & Design;Pretend Play   2018-01-15   \n",
       "\n",
       "  Current Ver   Android Ver  \\\n",
       "0       2.0.0  4.0.3 and up   \n",
       "1       2.0.0  4.0.3 and up   \n",
       "2       2.0.0  4.0.3 and up   \n",
       "3       2.0.0  4.0.3 and up   \n",
       "4       2.0.0  4.0.3 and up   \n",
       "\n",
       "                                   Translated_Review Sentiment  \\\n",
       "0  A kid's excessive ads. The types ads allowed a...  Negative   \n",
       "1                                         It bad >:(  Negative   \n",
       "2                                               like   Neutral   \n",
       "3                           I love colors inspyering  Positive   \n",
       "4                                             I hate  Negative   \n",
       "\n",
       "   Sentiment_Polarity  Sentiment_Subjectivity  \n",
       "0              -0.250                1.000000  \n",
       "1              -0.725                0.833333  \n",
       "2               0.000                0.000000  \n",
       "3               0.500                0.600000  \n",
       "4              -0.800                0.900000  "
      ]
     },
     "execution_count": 34,
     "metadata": {},
     "output_type": "execute_result"
    }
   ],
   "source": [
    "apps_and_reviews.head()"
   ]
  },
  {
   "cell_type": "markdown",
   "id": "18cd188d-ec11-4bd8-8bea-6e49c5167448",
   "metadata": {},
   "source": [
    "### Save merged apps and reviews dataset as pickel"
   ]
  },
  {
   "cell_type": "code",
   "execution_count": 35,
   "id": "79aa4b6a-bcb5-4bdc-a013-c457f3639667",
   "metadata": {},
   "outputs": [],
   "source": [
    "#pd.to_pickle(apps_and_reviews, \"apps_and_reviews.pkl\")"
   ]
  },
  {
   "cell_type": "code",
   "execution_count": 36,
   "id": "4dd5269c-615b-4b8e-8e37-c76199616605",
   "metadata": {},
   "outputs": [
    {
     "name": "stdout",
     "output_type": "stream",
     "text": [
      "<class 'pandas.core.frame.DataFrame'>\n",
      "RangeIndex: 35929 entries, 0 to 35928\n",
      "Data columns (total 17 columns):\n",
      " #   Column                  Non-Null Count  Dtype         \n",
      "---  ------                  --------------  -----         \n",
      " 0   App                     35929 non-null  object        \n",
      " 1   Category                35929 non-null  object        \n",
      " 2   Rating                  35929 non-null  float64       \n",
      " 3   Reviews                 35929 non-null  int64         \n",
      " 4   Size                    24069 non-null  float64       \n",
      " 5   Installs                35929 non-null  object        \n",
      " 6   Type                    35929 non-null  object        \n",
      " 7   Price ($)               35929 non-null  float64       \n",
      " 8   Content Rating          35929 non-null  object        \n",
      " 9   Genres                  35929 non-null  object        \n",
      " 10  Last Updated            35929 non-null  datetime64[ns]\n",
      " 11  Current Ver             35929 non-null  object        \n",
      " 12  Android Ver             35929 non-null  object        \n",
      " 13  Translated_Review       35929 non-null  object        \n",
      " 14  Sentiment               35929 non-null  object        \n",
      " 15  Sentiment_Polarity      35929 non-null  float64       \n",
      " 16  Sentiment_Subjectivity  35929 non-null  float64       \n",
      "dtypes: datetime64[ns](1), float64(5), int64(1), object(10)\n",
      "memory usage: 4.7+ MB\n"
     ]
    }
   ],
   "source": [
    "apps_and_reviews.info()"
   ]
  },
  {
   "cell_type": "code",
   "execution_count": 37,
   "id": "5d90c137-1ed5-4bf2-a9a4-6b3e85342ab0",
   "metadata": {},
   "outputs": [
    {
     "data": {
      "text/plain": [
       "Sentiment\n",
       "Positive    23073\n",
       "Negative     8005\n",
       "Neutral      4851\n",
       "Name: count, dtype: int64"
      ]
     },
     "execution_count": 37,
     "metadata": {},
     "output_type": "execute_result"
    }
   ],
   "source": [
    "apps_and_reviews.Sentiment.value_counts()"
   ]
  },
  {
   "cell_type": "code",
   "execution_count": 38,
   "id": "5fe7ac3c-c579-4e01-a74a-eeadbc235a2b",
   "metadata": {},
   "outputs": [
    {
     "data": {
      "text/plain": [
       "Category           Sentiment\n",
       "ART_AND_DESIGN     Negative      61\n",
       "                   Neutral       62\n",
       "                   Positive     259\n",
       "AUTO_AND_VEHICLES  Negative      17\n",
       "                   Neutral       36\n",
       "                               ... \n",
       "VIDEO_PLAYERS      Neutral       58\n",
       "                   Positive     190\n",
       "WEATHER            Negative      28\n",
       "                   Neutral       31\n",
       "                   Positive     142\n",
       "Name: App, Length: 99, dtype: int64"
      ]
     },
     "execution_count": 38,
     "metadata": {},
     "output_type": "execute_result"
    }
   ],
   "source": [
    "apps_and_reviews.groupby([\"Category\",\"Sentiment\"])[\"App\"].count()"
   ]
  },
  {
   "cell_type": "markdown",
   "id": "690db008-935c-4905-9a1d-37ff7af16d18",
   "metadata": {},
   "source": [
    "**The visuals contain:**\n",
    "- Scatterplot\n",
    "- Pie chart (sentiment analysis) per category of apps\n",
    "- Bar Chart "
   ]
  },
  {
   "cell_type": "markdown",
   "id": "8e44f770-8a75-4248-b67a-becb87fe24dd",
   "metadata": {},
   "source": [
    "# Dash App"
   ]
  },
  {
   "cell_type": "code",
   "execution_count": 40,
   "id": "d93513f2-f51f-49ec-8dfa-aad6a5b6952f",
   "metadata": {},
   "outputs": [
    {
     "name": "stdout",
     "output_type": "stream",
     "text": [
      "Dash app running on http://127.0.0.1:8097/\n"
     ]
    },
    {
     "data": {
      "application/javascript": [
       "window.open('http://127.0.0.1:8097/')"
      ],
      "text/plain": [
       "<IPython.core.display.Javascript object>"
      ]
     },
     "metadata": {},
     "output_type": "display_data"
    }
   ],
   "source": [
    "from dash import Dash, dcc, html, dash_table, ctx\n",
    "from dash.dependencies import Output, Input\n",
    "from dash.exceptions import PreventUpdate\n",
    "from dash_bootstrap_templates import load_figure_template\n",
    "\n",
    "import dash_bootstrap_components as dbc\n",
    "\n",
    "import plotly.express as px\n",
    "import pandas as pd\n",
    "\n",
    "apps_df = pd.read_pickle(\"../Data/cleaned_apps.pkl\")\n",
    "apps_and_reviews = pd.read_pickle(\"../Data/apps_and_reviews.pkl\")\n",
    "\n",
    "dbc_css = \"https://cdn.jsdelivr.net/gh/AnnMarieW/dash-bootstrap-templates/dbc.min.css\"\n",
    "\n",
    "table_style = {\n",
    "    'backgroundColor': 'rgb(50, 50, 50)',\n",
    "    'color': 'grey',\n",
    "    'font-family': \"Arial\"\n",
    "}\n",
    "\n",
    "app = Dash(__name__, external_stylesheets=[dbc.themes.SLATE, dbc_css]\n",
    "          )\n",
    "\n",
    "load_figure_template(\"QUARTZ\")\n",
    "\n",
    "app.layout = dbc.Container([\n",
    "    dbc.Row(html.H1(\"Android App Market: Analyzing Google Play Store Data\", style={\"textAlign\": \"center\"})),\n",
    "    html.Br(),\n",
    "    dbc.Row([\n",
    "        dbc.Col([\n",
    "            dbc.Card([\n",
    "                dcc.Markdown(\"Select Variable for X Axis\"),\n",
    "                dcc.RadioItems(\n",
    "                    id=\"numeric_columns\",\n",
    "                    options=[\"Rating\", \"Reviews\", \"Size\", \"Price ($)\"],\n",
    "                    value=\"Rating\"\n",
    "                ),\n",
    "                html.Hr(),\n",
    "                dcc.Markdown(\"Select Variable for Y Axis\"),\n",
    "                dcc.RadioItems(\n",
    "                    id=\"numeric_columns2\",\n",
    "                    options=[\"Rating\", \"Reviews\", \"Size\", \"Price ($)\"],\n",
    "                    value=\"Reviews\"\n",
    "                ),\n",
    "            ])\n",
    "        ], width=2),\n",
    "        dbc.Col([\n",
    "            dbc.Row(html.H4(\"Numerical Data Scatter Plot\")),\n",
    "            dcc.Graph(id=\"numeric_scatter\")\n",
    "                ]),\n",
    "        dbc.Col([\n",
    "            dbc.Row(\n",
    "                dcc.Dropdown(\n",
    "                    options=list(apps_df.Category.value_counts().index),\n",
    "                    value=\"COMICS\",\n",
    "                    id=\"category_dropdown\"\n",
    "            )),\n",
    "            dcc.Graph(id=\"category_pie\")\n",
    "        ])\n",
    "    ]),\n",
    "    html.Br(),\n",
    "    dbc.Row([\n",
    "        dbc.Col([\n",
    "            dbc.Card([\n",
    "                dcc.Markdown(\"The Aggregation\"),\n",
    "                dcc.RadioItems(\n",
    "                    id=\"bar_radio\",\n",
    "                    options=[\"min\", \"max\", \"mean\"],\n",
    "                    value=\"mean\"\n",
    "                ),\n",
    "                html.Hr(),\n",
    "                dcc.Markdown(\"Variable to be checked\"),\n",
    "                dcc.RadioItems(\n",
    "                    id=\"bar_radio2\",\n",
    "                    options=[\"Price ($)\", \"Rating\", \"Reviews\"],\n",
    "                    value=\"Rating\"\n",
    "                ),\n",
    "                html.Hr(),\n",
    "                 dcc.RadioItems(\n",
    "                    id=\"bar_radio3\",\n",
    "                    options=[\"top 5\", \"bottom 5\"],\n",
    "                    value=\"top 5\"\n",
    "                ),\n",
    "            ])  \n",
    "        ], width=2),\n",
    "        dbc.Col([\n",
    "            dcc.Graph(id=\"bar_graph\")\n",
    "        ], width=8),\n",
    "        dbc.Col([\n",
    "            dbc.Card([\n",
    "                dcc.Markdown(\"The 'Facebook' App from the 'SOCIAL' Category has the most reviews\", style={\"textAlign\": \"center\"})\n",
    "            ]),\n",
    "            # html.Br(),\n",
    "            dbc.Card([\n",
    "                dcc.Markdown(\"The 'COMMUNUCATION' Category has the most apps that have over 500,000,000 installations for a single app\", style={\"textAlign\": \"center\"})\n",
    "            ]),\n",
    "            # html.Br(),\n",
    "            dbc.Card([\n",
    "                dcc.Markdown(\"Apps in the 'EVENTS' Category has the highest average rating (4.44)\", style={\"textAlign\": \"center\"})\n",
    "            ]),\n",
    "            # html.Br(),\n",
    "            dbc.Card([\n",
    "                dcc.Markdown(\"The most apps (by count) are in the 'FAMILY' Category, with 'BEAUTY' having the least\", style={\"textAlign\": \"center\"})\n",
    "            ]),\n",
    "        ])\n",
    "        \n",
    "    ])\n",
    "])\n",
    "\n",
    "@app.callback(\n",
    "    Output(\"numeric_scatter\", \"figure\"),\n",
    "    Input(\"numeric_columns\", \"value\"),\n",
    "    Input(\"numeric_columns2\", \"value\"),\n",
    ")\n",
    "\n",
    "def numeric_column_scatterplot(x_axis, y_axis):\n",
    "    fig = px.scatter(\n",
    "        apps_df,\n",
    "        x=x_axis,\n",
    "        y=y_axis,\n",
    "        hover_name=\"Category\",\n",
    "        color=\"Content Rating\"\n",
    "    )\n",
    "\n",
    "    return fig \n",
    "\n",
    "@app.callback(\n",
    "    Output(\"category_pie\", \"figure\"),\n",
    "    Input(\"category_dropdown\", \"value\")\n",
    ")\n",
    "\n",
    "def categorical_piechart(category):\n",
    "    fig = px.pie(\n",
    "        apps_and_reviews[apps_and_reviews.Category == category],\n",
    "        names=\"Sentiment\"\n",
    "    )\n",
    "\n",
    "    return fig\n",
    "\n",
    "@app.callback(\n",
    "    Output(\"bar_graph\", \"figure\"),\n",
    "    Input(\"bar_radio\", \"value\"),\n",
    "    Input(\"bar_radio2\", \"value\"),\n",
    "    Input(\"bar_radio3\", \"value\")\n",
    ")\n",
    "\n",
    "def categorical_barplot(aggregate,variable, section):\n",
    "    if section == \"top 5\":\n",
    "        fig = px.bar(\n",
    "                apps_df.groupby(\"Category\").agg({variable: aggregate}).sort_values(by=variable, ascending=False).head()\n",
    "            )\n",
    "    else:\n",
    "        fig = px.bar(\n",
    "                apps_df.groupby(\"Category\").agg({variable: aggregate}).sort_values(by=variable, ascending=False).tail()\n",
    "            )\n",
    "    return fig\n",
    "            \n",
    "\n",
    "if __name__==\"__main__\":\n",
    "    app.run_server(jupyter_mode=\"tab\", port=8097)"
   ]
  }
 ],
 "metadata": {
  "kernelspec": {
   "display_name": "Python 3 (ipykernel)",
   "language": "python",
   "name": "python3"
  },
  "language_info": {
   "codemirror_mode": {
    "name": "ipython",
    "version": 3
   },
   "file_extension": ".py",
   "mimetype": "text/x-python",
   "name": "python",
   "nbconvert_exporter": "python",
   "pygments_lexer": "ipython3",
   "version": "3.11.8"
  }
 },
 "nbformat": 4,
 "nbformat_minor": 5
}
